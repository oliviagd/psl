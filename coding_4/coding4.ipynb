{
 "cells": [
  {
   "cell_type": "markdown",
   "metadata": {},
   "source": [
    "## Coding Assignment 4\n",
    "\n",
    "Team:\n",
    "- Olivia Dalglish (od4)\n",
    "- Arindam Saha (saha2)\n",
    "\n",
    "Contribution: \n",
    "\n",
    "Olivia: Part 1\n",
    "\n",
    "Arindam: Part 2\n",
    "\n",
    "In addition to the above, we discussed our approaches and checked each other's work.\n",
    "\n",
    "### Part I: Gaussian Mixtures"
   ]
  },
  {
   "cell_type": "code",
   "execution_count": 1,
   "id": "4518d823",
   "metadata": {},
   "outputs": [],
   "source": [
    "import numpy as np"
   ]
  },
  {
   "cell_type": "markdown",
   "id": "8fc31ceb",
   "metadata": {},
   "source": [
    "### Part II: HMM"
   ]
  },
  {
   "cell_type": "markdown",
   "id": "74507758",
   "metadata": {},
   "source": [
    "##### Baum-Welch Algorithm"
   ]
  },
  {
   "cell_type": "code",
   "execution_count": null,
   "id": "e6ed9731",
   "metadata": {},
   "outputs": [],
   "source": []
  },
  {
   "cell_type": "markdown",
   "id": "839072b8",
   "metadata": {},
   "source": [
    "##### Viterbi Algorithm"
   ]
  },
  {
   "cell_type": "code",
   "execution_count": 2,
   "id": "84f898ef",
   "metadata": {},
   "outputs": [
    {
     "name": "stdout",
     "output_type": "stream",
     "text": [
      "A: the 2-by-2 transition matrix:\n",
      "[[0.49793938 0.50206062]\n",
      " [0.44883431 0.55116569]]\n",
      "B: the 2-by-3 transition matrix:\n",
      "[[0.22159897 0.20266127 0.57573976]\n",
      " [0.34175148 0.17866665 0.47958186]]\n",
      "Z: [1 1 1 1 1 1 1 2 1 1 1 1 1 2 2 1 1 1 1 1 1 1 2 2 2 2 2 1 1 1 1 1 1 1 2 1 1\n",
      " 1 1 1 1 1 1 2 2 1 1 1 1 1 1 2 2 2 1 1 1 1 2 2 2 2 1 1 1 1 1 1 1 1 2 2 2 2\n",
      " 2 2 2 2 2 2 2 2 2 2 2 2 2 2 2 2 2 1 1 1 1 2 1 1 1 1 1 1 1 1 1 1 1 1 1 2 1\n",
      " 1 1 1 2 1 1 1 1 1 1 2 2 2 2 2 2 2 2 2 2 2 2 1 1 1 1 1 1 1 2 2 2 2 2 2 2 2\n",
      " 2 2 2 1 1 1 2 2 2 2 2 2 1 1 1 1 1 2 2 2 2 2 2 2 2 2 1 1 1 2 2 2 1 1 1 1 1\n",
      " 1 1 1 2 2 2 2 2 1 1 1 1 1 1 1]\n",
      "matches: True\n",
      "mismatch idxs: (array([], dtype=int64),)\n"
     ]
    }
   ],
   "source": [
    "def BW_onestep(data, mx, mz, w, A, B):\n",
    "    # Switching data to be 0-indexed\n",
    "    data = data - 1\n",
    "    n = len(data)\n",
    "\n",
    "    alpha = np.zeros((n, mz))\n",
    "    alpha[0] = w * B[:, data[0]]\n",
    "    for t in range(1, n):\n",
    "        alpha[t] = (alpha[t - 1] @ A) * B[:, data[t]]\n",
    "    \n",
    "    beta = np.zeros((n, mz))\n",
    "    beta[n - 1] = np.ones(mz)\n",
    "    for t in range(n - 2, -1, -1):\n",
    "        beta[t] = A @ (B[:, data[t + 1]] * beta[t + 1])\n",
    "\n",
    "    gamma = np.zeros((n - 1, mz, mz))\n",
    "    for t in range(n - 1):\n",
    "        gamma[t] = alpha[t][:, np.newaxis] * (A * (B[:, data[t + 1]] * beta[t + 1]))\n",
    "\n",
    "    gamma_plus = np.sum(gamma, axis=0)\n",
    "    A_next = gamma_plus / np.sum(gamma_plus, axis=1)[:, np.newaxis]\n",
    "    \n",
    "    gamma_ti = np.vstack((np.sum(gamma, axis=2), alpha[n - 1]))\n",
    "    B_next = np.zeros(B.shape)\n",
    "    for l in range(mx):\n",
    "        t_idxs = np.where(data == l)[0]\n",
    "        B_next[:, l] = np.sum(gamma_ti[t_idxs], axis=0) / np.sum(gamma_ti, axis=0)\n",
    "\n",
    "    return A_next, B_next\n",
    "\n",
    "\n",
    "def myBW(data, mx, mz, w, A, B, niter):\n",
    "    for _ in range(niter):\n",
    "        A, B = BW_onestep(data, mx, mz, w, A, B)\n",
    "    return A, B\n",
    "    \n",
    "\n",
    "def myViterbi(data, mx, mz, w, A, B):\n",
    "    # Switching data to be 0-indexed\n",
    "    data = data - 1\n",
    "\n",
    "    # Evaluating probabilities in logarithmic scale to correctly compare really low probabilty values\n",
    "\n",
    "    w = np.log(w)\n",
    "    A = np.log(A)\n",
    "    B = np.log(B)\n",
    "\n",
    "    n = len(data)\n",
    "    delta = np.zeros((n, mz))\n",
    "    delta[0] = w + B[:, data[0]]\n",
    "    for t in range(1, n):\n",
    "        for i in range(mz):\n",
    "            delta[t, i] = np.max(delta[t - 1] + A[:, i]) + B[i, data[t]]\n",
    "\n",
    "    Z = np.zeros(n, dtype=int)\n",
    "    Z[n - 1] = np.argmax(delta[n - 1])\n",
    "    for t in range(n - 2, -1, -1):\n",
    "        Z[t] = np.argmax(delta[t] + A[:, Z[t + 1]])\n",
    "\n",
    "    # Switching Z to be 1-indexed\n",
    "    return Z + 1\n",
    "\n",
    "data = np.loadtxt('Coding4_part2_data.txt').astype(int)\n",
    "\n",
    "mx = 3\n",
    "mz = 2\n",
    "\n",
    "w = np.array([0.5, 0.5])\n",
    "A_init = np.array([\n",
    "    [0.5, 0.5],\n",
    "    [0.5, 0.5],\n",
    "])\n",
    "B_init = np.array([\n",
    "    [1/9, 3/9, 5/9],\n",
    "    [1/6, 2/6, 3/6],\n",
    "])\n",
    "\n",
    "A, B = myBW(data, mx, mz, w, A_init, B_init, 100)\n",
    "\n",
    "print(f'A: the 2-by-2 transition matrix:\\n{A}')\n",
    "print(f'B: the 2-by-3 transition matrix:\\n{B}')\n",
    "\n",
    "\n",
    "Z = myViterbi(data, 3, 2, w, A, B)\n",
    "print(f'Z: {Z}')\n",
    "\n",
    "with open('Coding4_part2_Z.txt') as fh:\n",
    "    expected_Z = np.fromstring(fh.read().strip(), dtype=int, sep= ' ')\n",
    "\n",
    "print(f'matches: {np.all(Z == expected_Z)}')\n"
   ]
  },
  {
   "cell_type": "markdown",
   "id": "ba8bf11d",
   "metadata": {},
   "source": [
    "##### Testing\n",
    "\n",
    "##### 1."
   ]
  },
  {
   "cell_type": "code",
   "execution_count": 3,
   "id": "5ae4e16a",
   "metadata": {},
   "outputs": [
    {
     "name": "stdout",
     "output_type": "stream",
     "text": [
      "[1 1 1 1 1 1 1 2 1 1 1 1 1 2 2 1 1 1 1 1 1 1 2 2 2 2 2 1 1 1 1 1 1 1 2 1 1\n",
      " 1 1 1 1 1 1 2 2 1 1 1 1 1 1 2 2 2 1 1 1 1 2 2 2 2 1 1 1 1 1 1 1 1 2 2 2 2\n",
      " 2 2 2 2 2 2 2 2 2 2 2 2 2 2 2 2 2 1 1 1 1 2 1 1 1 1 1 1 1 1 1 1 1 1 1 2 1\n",
      " 1 1 1 2 1 1 1 1 1 1 2 2 2 2 2 2 2 2 2 2 2 2 1 1 1 1 1 1 1 2 2 2 2 2 2 2 2\n",
      " 2 2 2 1 1 1 2 2 2 2 2 2 1 1 1 1 1 2 2 2 2 2 2 2 2 2 1 1 1 2 2 2 1 1 1 1 1\n",
      " 1 1 1 2 2 2 2 2 1 1 1 1 1 1 1]\n",
      "(array([], dtype=int64),)\n",
      "matches: True\n"
     ]
    }
   ],
   "source": [
    "\n",
    "data = np.loadtxt('Coding4_part2_data.txt').astype(int)\n",
    "w = np.array([0.5, 0.5])\n",
    "# A = np.array([\n",
    "#     [0.5, 0.5],\n",
    "#     [0.5, 0.5],\n",
    "# ])\n",
    "# B = np.array([\n",
    "#     [1/9, 3/9, 5/9],\n",
    "#     [1/6, 2/6, 3/6],\n",
    "# ])\n",
    "\n",
    "# Need to get this from Baum-Welch\n",
    "A = np.array([\n",
    "    [0.49793938, 0.50206062],\n",
    "    [0.44883431, 0.55116569],\n",
    "])\n",
    "\n",
    "B = np.array([\n",
    "    [0.22159897, 0.20266127, 0.57573976],\n",
    "    [0.34175148, 0.17866665, 0.47958186],\n",
    "])\n",
    "\n",
    "Z = myViterbi(data, 3, 2, w, A, B)\n",
    "print(Z)\n",
    "\n",
    "with open('Coding4_part2_Z.txt') as fh:\n",
    "    expected_Z = np.fromstring(fh.read().strip(), dtype=int, sep= ' ')\n",
    "\n",
    "print(np.where(Z != expected_Z))\n",
    "print(f'matches: {np.all(Z == expected_Z)}')"
   ]
  }
 ],
 "metadata": {
  "kernelspec": {
   "display_name": "base",
   "language": "python",
   "name": "python3"
  },
  "language_info": {
   "codemirror_mode": {
    "name": "ipython",
    "version": 3
   },
   "file_extension": ".py",
   "mimetype": "text/x-python",
   "name": "python",
   "nbconvert_exporter": "python",
   "pygments_lexer": "ipython3",
   "version": "3.12.2"
  }
 },
 "nbformat": 4,
 "nbformat_minor": 5
}
