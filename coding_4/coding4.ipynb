{
 "cells": [
  {
   "cell_type": "markdown",
   "metadata": {},
   "source": [
    "## Coding Assignment 4\n",
    "\n",
    "Team:\n",
    "- Olivia Dalglish (od4)\n",
    "- Arindam Saha (saha2)\n",
    "\n",
    "Contribution: \n",
    "\n",
    "Olivia: Part 1\n",
    "\n",
    "Arindam: Part 2\n",
    "\n",
    "In addition to the above, we discussed our approaches and checked each other's work.\n",
    "\n",
    "### Part I: Gaussian Mixtures"
   ]
  },
  {
   "cell_type": "code",
   "execution_count": 1,
   "id": "4518d823",
   "metadata": {},
   "outputs": [],
   "source": [
    "import numpy as np"
   ]
  },
  {
   "cell_type": "markdown",
   "id": "8fc31ceb",
   "metadata": {},
   "source": [
    "### Part II: HMM"
   ]
  },
  {
   "cell_type": "markdown",
   "id": "74507758",
   "metadata": {},
   "source": [
    "##### Baum-Welch Algorithm"
   ]
  },
  {
   "cell_type": "code",
   "execution_count": 2,
   "id": "e6ed9731",
   "metadata": {},
   "outputs": [],
   "source": [
    "def BW_onestep(data, mx, mz, w, A, B):\n",
    "    # Switching data to be 0-indexed\n",
    "    data = data - 1\n",
    "    n = len(data)\n",
    "\n",
    "    alpha = np.zeros((n, mz))\n",
    "    alpha[0] = w * B[:, data[0]]\n",
    "    for t in range(1, n):\n",
    "        alpha[t] = (alpha[t - 1] @ A) * B[:, data[t]]\n",
    "    \n",
    "    beta = np.zeros((n, mz))\n",
    "    beta[n - 1] = np.ones(mz)\n",
    "    for t in range(n - 2, -1, -1):\n",
    "        beta[t] = A @ (B[:, data[t + 1]] * beta[t + 1])\n",
    "\n",
    "    gamma = np.zeros((n - 1, mz, mz))\n",
    "    for t in range(n - 1):\n",
    "        gamma[t] = alpha[t][:, np.newaxis] * (A * (B[:, data[t + 1]] * beta[t + 1]))\n",
    "\n",
    "    gamma_plus = np.sum(gamma, axis=0)\n",
    "    A_next = gamma_plus / np.sum(gamma_plus, axis=1)[:, np.newaxis]\n",
    "    \n",
    "    gamma_ti = np.vstack((np.sum(gamma, axis=2), alpha[n - 1]))\n",
    "    B_next = np.zeros(B.shape)\n",
    "    for l in range(mx):\n",
    "        t_idxs = np.where(data == l)[0]\n",
    "        B_next[:, l] = np.sum(gamma_ti[t_idxs], axis=0) / np.sum(gamma_ti, axis=0)\n",
    "\n",
    "    return A_next, B_next\n",
    "\n",
    "\n",
    "def myBW(data, mx, mz, w, A, B, niter):\n",
    "    for _ in range(niter):\n",
    "        A, B = BW_onestep(data, mx, mz, w, A, B)\n",
    "    return A, B"
   ]
  },
  {
   "cell_type": "markdown",
   "id": "839072b8",
   "metadata": {},
   "source": [
    "##### Viterbi Algorithm"
   ]
  },
  {
   "cell_type": "code",
   "execution_count": 3,
   "id": "84f898ef",
   "metadata": {},
   "outputs": [],
   "source": [
    "def myViterbi(data, mx, mz, w, A, B):\n",
    "    # Switching data to be 0-indexed\n",
    "    data = data - 1\n",
    "\n",
    "    # Evaluating probabilities in logarithmic scale to correctly compare really low probabilty values\n",
    "\n",
    "    w = np.log(w)\n",
    "    A = np.log(A)\n",
    "    B = np.log(B)\n",
    "\n",
    "    n = len(data)\n",
    "    delta = np.zeros((n, mz))\n",
    "    delta[0] = w + B[:, data[0]]\n",
    "    for t in range(1, n):\n",
    "        for i in range(mz):\n",
    "            delta[t, i] = np.max(delta[t - 1] + A[:, i]) + B[i, data[t]]\n",
    "\n",
    "    Z = np.zeros(n, dtype=int)\n",
    "    Z[n - 1] = np.argmax(delta[n - 1])\n",
    "    for t in range(n - 2, -1, -1):\n",
    "        Z[t] = np.argmax(delta[t] + A[:, Z[t + 1]])\n",
    "\n",
    "    # Switching Z to be 1-indexed\n",
    "    return Z + 1"
   ]
  },
  {
   "cell_type": "markdown",
   "id": "ba8bf11d",
   "metadata": {},
   "source": [
    "##### Testing\n",
    "\n",
    "##### 1."
   ]
  },
  {
   "cell_type": "code",
   "execution_count": 4,
   "id": "5ae4e16a",
   "metadata": {},
   "outputs": [
    {
     "name": "stdout",
     "output_type": "stream",
     "text": [
      "A: the 2-by-2 transition matrix:\n",
      "[[0.49793938 0.50206062]\n",
      " [0.44883431 0.55116569]]\n",
      "\n",
      "B: the 2-by-3 emission matrix:\n",
      "[[0.22159897 0.20266127 0.57573976]\n",
      " [0.34175148 0.17866665 0.47958186]]\n",
      "\n",
      "Z: [1 1 1 1 1 1 1 2 1 1 1 1 1 2 2 1 1 1 1 1 1 1 2 2 2 2 2 1 1 1 1 1 1 1 2 1 1\n",
      " 1 1 1 1 1 1 2 2 1 1 1 1 1 1 2 2 2 1 1 1 1 2 2 2 2 1 1 1 1 1 1 1 1 2 2 2 2\n",
      " 2 2 2 2 2 2 2 2 2 2 2 2 2 2 2 2 2 1 1 1 1 2 1 1 1 1 1 1 1 1 1 1 1 1 1 2 1\n",
      " 1 1 1 2 1 1 1 1 1 1 2 2 2 2 2 2 2 2 2 2 2 2 1 1 1 1 1 1 1 2 2 2 2 2 2 2 2\n",
      " 2 2 2 1 1 1 2 2 2 2 2 2 1 1 1 1 1 2 2 2 2 2 2 2 2 2 1 1 1 2 2 2 1 1 1 1 1\n",
      " 1 1 1 2 2 2 2 2 1 1 1 1 1 1 1]\n",
      "matches: True\n"
     ]
    }
   ],
   "source": [
    "data = np.loadtxt('Coding4_part2_data.txt').astype(int)\n",
    "\n",
    "mx = 3\n",
    "mz = 2\n",
    "\n",
    "w = np.array([0.5, 0.5])\n",
    "A_init = np.array([\n",
    "    [0.5, 0.5],\n",
    "    [0.5, 0.5],\n",
    "])\n",
    "B_init = np.array([\n",
    "    [1/9, 3/9, 5/9],\n",
    "    [1/6, 2/6, 3/6],\n",
    "])\n",
    "\n",
    "A, B = myBW(data, mx, mz, w, A_init, B_init, 100)\n",
    "\n",
    "print(f'A: the 2-by-2 transition matrix:\\n{A}\\n')\n",
    "print(f'B: the 2-by-3 emission matrix:\\n{B}\\n')\n",
    "\n",
    "\n",
    "Z = myViterbi(data, 3, 2, w, A, B)\n",
    "print(f'Z: {Z}')\n",
    "\n",
    "with open('Coding4_part2_Z.txt') as fh:\n",
    "    expected_Z = np.fromstring(fh.read().strip(), dtype=int, sep= ' ')\n",
    "\n",
    "print(f'matches: {np.all(Z == expected_Z)}')\n"
   ]
  },
  {
   "cell_type": "markdown",
   "id": "e2c9bf06",
   "metadata": {},
   "source": [
    "We can see above that our output matches the expected values."
   ]
  },
  {
   "cell_type": "markdown",
   "id": "67344c7a",
   "metadata": {},
   "source": [
    "##### 2."
   ]
  },
  {
   "cell_type": "code",
   "execution_count": 5,
   "id": "22736d0c",
   "metadata": {},
   "outputs": [
    {
     "name": "stdout",
     "output_type": "stream",
     "text": [
      "A_20: the 2-by-2 transition matrix:\n",
      "[[0.5 0.5]\n",
      " [0.5 0.5]]\n",
      "\n",
      "B_20: the 2-by-3 emission matrix:\n",
      "[[0.285 0.19  0.525]\n",
      " [0.285 0.19  0.525]]\n",
      "\n",
      "A_100: the 2-by-2 transition matrix:\n",
      "[[0.5 0.5]\n",
      " [0.5 0.5]]\n",
      "\n",
      "B_100: the 2-by-3 emission matrix:\n",
      "[[0.285 0.19  0.525]\n",
      " [0.285 0.19  0.525]]\n",
      "\n"
     ]
    }
   ],
   "source": [
    "B_init_same = np.array([\n",
    "    [1/3, 1/3, 1/3],\n",
    "    [1/3, 1/3, 1/3],\n",
    "])\n",
    "A_20, B_20 = myBW(data, mx, mz, w, A_init, B_init_same, 20)\n",
    "A_100, B_100 = myBW(data, mx, mz, w, A_init, B_init_same, 100)\n",
    "\n",
    "print(f'A_20: the 2-by-2 transition matrix:\\n{A_20}\\n')\n",
    "print(f'B_20: the 2-by-3 emission matrix:\\n{B_20}\\n')\n",
    "\n",
    "print(f'A_100: the 2-by-2 transition matrix:\\n{A_100}\\n')\n",
    "print(f'B_100: the 2-by-3 emission matrix:\\n{B_100}\\n')"
   ]
  },
  {
   "cell_type": "code",
   "execution_count": 6,
   "id": "da25afca",
   "metadata": {},
   "outputs": [
    {
     "data": {
      "text/plain": [
       "(0.285, 0.19, 0.525)"
      ]
     },
     "execution_count": 6,
     "metadata": {},
     "output_type": "execute_result"
    }
   ],
   "source": [
    "np.mean(data == 1), np.mean(data == 2), np.mean(data == 3)"
   ]
  },
  {
   "cell_type": "markdown",
   "id": "38373551",
   "metadata": {},
   "source": [
    "We can see above that with indistinguishable latent states, Baum-Welch just converges to the probabilities of each value in the data in the emission matrix. This makes sense because it is equivalent to just having one state which emits according to the probabilities found in the data."
   ]
  }
 ],
 "metadata": {
  "kernelspec": {
   "display_name": "base",
   "language": "python",
   "name": "python3"
  },
  "language_info": {
   "codemirror_mode": {
    "name": "ipython",
    "version": 3
   },
   "file_extension": ".py",
   "mimetype": "text/x-python",
   "name": "python",
   "nbconvert_exporter": "python",
   "pygments_lexer": "ipython3",
   "version": "3.12.2"
  }
 },
 "nbformat": 4,
 "nbformat_minor": 5
}
