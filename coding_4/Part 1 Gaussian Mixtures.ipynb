{
 "cells": [
  {
   "cell_type": "code",
   "execution_count": 42,
   "id": "030096b0-44e5-47e7-99da-91896a8857ef",
   "metadata": {},
   "outputs": [
    {
     "data": {
      "text/plain": [
       "<module 'gaussian_mixtures' from '/Users/Olivia.Dalglish/personal/uiuc/psl/coding_4/gaussian_mixtures.py'>"
      ]
     },
     "execution_count": 42,
     "metadata": {},
     "output_type": "execute_result"
    }
   ],
   "source": [
    "import gaussian_mixtures as gm\n",
    "import pandas as pd\n",
    "import numpy as np\n",
    "import importlib\n",
    "importlib.reload(gm)"
   ]
  },
  {
   "cell_type": "code",
   "execution_count": 38,
   "id": "bcfc5d0f-5c28-4027-b98b-84d41ec4fbea",
   "metadata": {},
   "outputs": [],
   "source": [
    "data = np.loadtxt(\"faithful.dat\", skiprows=1)[:, 1:]\n",
    "\n",
    "n, p = data.shape"
   ]
  },
  {
   "cell_type": "markdown",
   "id": "2f5fce38-4690-4053-b31d-4a2abe65b678",
   "metadata": {},
   "source": [
    "### G = 2"
   ]
  },
  {
   "cell_type": "code",
   "execution_count": 43,
   "id": "ee21686b-aa43-40ac-9c37-d71bbf8a1629",
   "metadata": {},
   "outputs": [
    {
     "name": "stdout",
     "output_type": "stream",
     "text": [
      "Final probabilities\n",
      "[0.04297883 0.95702117]\n",
      "Final means\n",
      "[[ 3.49564188  3.48743016]\n",
      " [76.79789154 70.63205853]]\n",
      "Final cov matrix\n",
      "[[  1.29793612  13.92433626]\n",
      " [ 13.92433626 182.58009247]]\n",
      "log likelihood\n",
      "-20807.316025787797\n"
     ]
    }
   ],
   "source": [
    "G = 2\n",
    "\n",
    "# initialize mixing weights\n",
    "p1 = 10 / n\n",
    "p2 = 1 - p1\n",
    "prob = np.array([p1, p2])\n",
    "\n",
    "mu1 = np.mean(data[:10], axis=0)\n",
    "mu2 = np.mean(data[10:], axis=0)\n",
    "means = np.column_stack((mu1, mu2))\n",
    "\n",
    "# initialize covariance matrix\n",
    "Sigma = np.zeros((p, p))\n",
    "for i in range(10):\n",
    "    diff = data[i] - mu1\n",
    "    Sigma += np.outer(diff, diff)\n",
    "for i in range(10, n):\n",
    "    diff = data[i] - mu2\n",
    "    Sigma += np.outer(diff, diff)\n",
    "Sigma /= n\n",
    "\n",
    "itmax = 20\n",
    "\n",
    "final_prob, final_means, final_Sigma, log_likelihood = gm.myEM(data, G, prob, means, Sigma, itmax)\n",
    "\n",
    "print(\"Final probabilities\")\n",
    "print(final_prob)\n",
    "\n",
    "print(\"Final means\")\n",
    "print(final_means)\n",
    "\n",
    "print(\"Final cov matrix\")\n",
    "print(final_Sigma)\n",
    "\n",
    "print(\"log likelihood\")\n",
    "print(log_likelihood)"
   ]
  },
  {
   "cell_type": "markdown",
   "id": "d1b727f3-5be7-4a6d-b0fe-b0ddb3f51f04",
   "metadata": {},
   "source": [
    "### G = 3"
   ]
  },
  {
   "cell_type": "code",
   "execution_count": 39,
   "id": "3a13dcdc-3b1a-4b43-9d59-a49f034cc405",
   "metadata": {},
   "outputs": [
    {
     "name": "stdout",
     "output_type": "stream",
     "text": [
      "Final probabilities\n",
      "[0.04363422 0.07718656 0.87917922]\n",
      "Final means\n",
      "[[ 3.51006918  2.81616674  3.54564083]\n",
      " [77.10563811 63.35752634 71.25084801]]\n",
      "Final cov matrix\n",
      "[[  1.26015772  13.51153756]\n",
      " [ 13.51153756 177.96419105]]\n",
      "log likelihood\n",
      "-1289.3509588627385\n"
     ]
    }
   ],
   "source": [
    "G = 3\n",
    "\n",
    "# initialize mixing weights\n",
    "p1 = 10 / n\n",
    "p2 = 20 / n\n",
    "p3 = 1 - p1 - p2\n",
    "prob = np.array([p1, p2, p3])\n",
    "\n",
    "# initialize means\n",
    "mu1 = np.mean(data[:10], axis=0)\n",
    "mu2 = np.mean(data[10:30], axis=0)\n",
    "mu3 = np.mean(data[30:], axis=0)\n",
    "means = np.column_stack((mu1, mu2, mu3))\n",
    "\n",
    "# initialize covariance matrix\n",
    "Sigma = np.zeros((p, p))\n",
    "for i in range(10):\n",
    "    diff = data[i] - mu1\n",
    "    Sigma += np.outer(diff, diff)\n",
    "for i in range(10, 30):\n",
    "    diff = data[i] - mu2\n",
    "    Sigma += np.outer(diff, diff)\n",
    "for i in range(30, n):\n",
    "    diff = data[i] - mu3\n",
    "    Sigma += np.outer(diff, diff)\n",
    "Sigma /= n  # Shape (p, p)\n",
    "\n",
    "itmax = 20\n",
    "\n",
    "final_prob, final_means, final_Sigma, log_likelihood = gm.myEM(data, G, prob, means, Sigma, itmax)\n",
    "\n",
    "print(\"Final probabilities\")\n",
    "print(final_prob)\n",
    "\n",
    "print(\"Final means\")\n",
    "print(final_means)\n",
    "\n",
    "print(\"Final cov matrix\")\n",
    "print(final_Sigma)\n",
    "\n",
    "print(\"log likelihood\")\n",
    "print(log_likelihood)"
   ]
  },
  {
   "cell_type": "code",
   "execution_count": null,
   "id": "50f24180-9b6a-412c-b3ec-38aee5c23c81",
   "metadata": {},
   "outputs": [],
   "source": []
  }
 ],
 "metadata": {
  "kernelspec": {
   "display_name": "Python 3 (ipykernel)",
   "language": "python",
   "name": "python3"
  },
  "language_info": {
   "codemirror_mode": {
    "name": "ipython",
    "version": 3
   },
   "file_extension": ".py",
   "mimetype": "text/x-python",
   "name": "python",
   "nbconvert_exporter": "python",
   "pygments_lexer": "ipython3",
   "version": "3.10.2"
  }
 },
 "nbformat": 4,
 "nbformat_minor": 5
}
