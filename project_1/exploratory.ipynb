{
 "cells": [
  {
   "cell_type": "code",
   "execution_count": 3,
   "id": "7b96828b-334e-406d-92bc-b6b6460728d7",
   "metadata": {},
   "outputs": [],
   "source": [
    "import numpy as np\n",
    "import pandas as pd\n",
    "import matplotlib.pyplot as plt"
   ]
  },
  {
   "cell_type": "code",
   "execution_count": 4,
   "id": "6348336c-f005-4b7c-bcb2-068e671b36da",
   "metadata": {},
   "outputs": [],
   "source": [
    "path = \"proj1/fold{}/{}.csv\"\n",
    "\n",
    "trains = []\n",
    "tests = []\n",
    "for fold in range(1,11):\n",
    "    train = pd.read_csv(path.format(fold, \"train\"))\n",
    "    test = pd.read_csv(path.format(fold, \"test\"))\n",
    "    test_y = pd.read_csv(path.format(fold, \"test_y\"))\n",
    "    trains.append(train)\n",
    "    tests.append(test)\n",
    "\n",
    "all_train = pd.concat(trains)\n",
    "all_test = pd.concat(tests)\n",
    "\n",
    "\n",
    "all_train['Total_SF'] = all_train[['First_Flr_SF','Second_Flr_SF','Total_Bsmt_SF']].copy().sum(axis=1)\n",
    "all_train['Total_Bath'] = all_train.loc[:,'Full_Bath'] + (0.5 * all_train.loc[:,'Half_Bath'])\n",
    "all_train['Has_Pool'] = all_train['Pool_QC'].map({\"No_Pool\":0, 'Excellent':1, 'Good':1, 'Typical':0, 'Fair':0})\n",
    "all_train['Has_Quality_Kitchen'] = all_train['Kitchen_Qual'].map({'Excellent':1, 'Good':1, 'Typical':0, 'Fair':0, 'Poor':0})\n",
    "all_train['Has_Quality_Basement'] = all_train['Bsmt_Qual'].map({'Excellent':1, 'Good':1, 'Typical':0, 'Fair':0, 'Poor':0})"
   ]
  },
  {
   "cell_type": "code",
   "execution_count": 39,
   "id": "1d67c32f-e0b3-4b3e-8e88-a0b20529522c",
   "metadata": {},
   "outputs": [
    {
     "data": {
      "text/plain": [
       "array(['BsmtFin_SF_2', 'Misc_Val', 'Mo_Sold', 'Three_season_porch',\n",
       "       'Year_Sold', 'Bsmt_Half_Bath', 'Low_Qual_Fin_SF', 'Pool_Area'],\n",
       "      dtype=object)"
      ]
     },
     "execution_count": 39,
     "metadata": {},
     "output_type": "execute_result"
    }
   ],
   "source": [
    "# delete these numeric columns\n",
    "corrs = all_train.select_dtypes(include='number').corr().Sale_Price.abs().sort_values()\n",
    "corrs[corrs < 0.1].index.values"
   ]
  },
  {
   "cell_type": "code",
   "execution_count": 40,
   "id": "44edad72-4997-41bf-ab24-863bfd29660c",
   "metadata": {},
   "outputs": [
    {
     "data": {
      "text/plain": [
       "BsmtFin_SF_2            0.008351\n",
       "Misc_Val                0.018703\n",
       "Mo_Sold                 0.022928\n",
       "Three_season_porch      0.028741\n",
       "Year_Sold               0.030741\n",
       "Bsmt_Half_Bath          0.039697\n",
       "Low_Qual_Fin_SF         0.040053\n",
       "Pool_Area               0.062610\n",
       "Has_Pool                0.111545\n",
       "Kitchen_AbvGr           0.121616\n",
       "Screen_Porch            0.126030\n",
       "Enclosed_Porch          0.136201\n",
       "BsmtFin_SF_1            0.142277\n",
       "Bedroom_AbvGr           0.148072\n",
       "Bsmt_Unf_SF             0.176934\n",
       "Lot_Frontage            0.209532\n",
       "Longitude               0.248249\n",
       "PID                     0.252680\n",
       "Second_Flr_SF           0.262596\n",
       "Lot_Area                0.283330\n",
       "Half_Bath               0.283937\n",
       "Bsmt_Full_Bath          0.285094\n",
       "Latitude                0.296598\n",
       "Open_Porch_SF           0.317107\n",
       "Wood_Deck_SF            0.334206\n",
       "Fireplaces              0.480482\n",
       "TotRms_AbvGrd           0.503554\n",
       "Mas_Vnr_Area            0.524119\n",
       "Garage_Yr_Blt           0.524968\n",
       "Year_Remod_Add          0.531350\n",
       "Has_Quality_Basement    0.543790\n",
       "Full_Bath               0.549344\n",
       "Year_Built              0.558975\n",
       "Has_Quality_Kitchen     0.570215\n",
       "Total_Bath              0.584025\n",
       "First_Flr_SF            0.643322\n",
       "Garage_Area             0.644519\n",
       "Garage_Cars             0.651167\n",
       "Total_Bsmt_SF           0.652654\n",
       "Gr_Liv_Area             0.716609\n",
       "Total_SF                0.810819\n",
       "Sale_Price              1.000000\n",
       "Name: Sale_Price, dtype: float64"
      ]
     },
     "execution_count": 40,
     "metadata": {},
     "output_type": "execute_result"
    }
   ],
   "source": [
    "corrs"
   ]
  },
  {
   "cell_type": "code",
   "execution_count": 5,
   "id": "fed1e689-8902-4f85-ad20-2ff3e268c973",
   "metadata": {},
   "outputs": [],
   "source": [
    "categorical = all_train.select_dtypes(include=['object', 'category'])\n",
    "onehot = pd.get_dummies(categorical, prefix=categorical.columns)\n",
    "onehot['Sale_Price'] = all_train.Sale_Price"
   ]
  },
  {
   "cell_type": "code",
   "execution_count": null,
   "id": "522774db-a7d9-4b38-bfa7-513bfc8d0a4a",
   "metadata": {},
   "outputs": [],
   "source": []
  },
  {
   "cell_type": "code",
   "execution_count": 6,
   "id": "1bb7a252-7a3d-427a-a8e2-3b149071795e",
   "metadata": {},
   "outputs": [],
   "source": [
    "corrs = onehot.corr().Sale_Price.abs().sort_values()"
   ]
  },
  {
   "cell_type": "code",
   "execution_count": 7,
   "id": "2f925ddd-dfc8-473d-a17f-40a3ae48da2f",
   "metadata": {},
   "outputs": [
    {
     "data": {
      "text/plain": [
       "Mas_Vnr_Type_Stone                      0.309670\n",
       "Exterior_2nd_VinylSd                    0.327811\n",
       "Exterior_1st_VinylSd                    0.330611\n",
       "Heating_QC_Typical                      0.336206\n",
       "Foundation_CBlock                       0.345149\n",
       "Sale_Condition_Partial                  0.353224\n",
       "Overall_Qual_Average                    0.354704\n",
       "Garage_Type_Attchd                      0.355065\n",
       "MS_SubClass_Two_Story_1946_and_Newer    0.356001\n",
       "Sale_Type_New                           0.357989\n",
       "Overall_Cond_Average                    0.360200\n",
       "Bsmt_Exposure_Gd                        0.364271\n",
       "Garage_Type_Detchd                      0.368333\n",
       "Overall_Qual_Very_Excellent             0.374093\n",
       "Fireplace_Qu_Good                       0.374534\n",
       "Overall_Qual_Very_Good                  0.404480\n",
       "Garage_Finish_Fin                       0.419911\n",
       "Garage_Finish_Unf                       0.427022\n",
       "Exter_Qual_Good                         0.432994\n",
       "Neighborhood_Northridge_Heights         0.438274\n",
       "Bsmt_Qual_Typical                       0.451294\n",
       "Heating_QC_Excellent                    0.457451\n",
       "BsmtFin_Type_1_GLQ                      0.458877\n",
       "Overall_Qual_Excellent                  0.460093\n",
       "Fireplace_Qu_No_Fireplace               0.481470\n",
       "Exter_Qual_Excellent                    0.502713\n",
       "Foundation_PConc                        0.516455\n",
       "Kitchen_Qual_Typical                    0.524025\n",
       "Kitchen_Qual_Excellent                  0.554104\n",
       "Exter_Qual_Typical                      0.590337\n",
       "Bsmt_Qual_Excellent                     0.604159\n",
       "Sale_Price                              1.000000\n",
       "Name: Sale_Price, dtype: float64"
      ]
     },
     "execution_count": 7,
     "metadata": {},
     "output_type": "execute_result"
    }
   ],
   "source": [
    "corrs[corrs > 0.3]"
   ]
  },
  {
   "cell_type": "code",
   "execution_count": 28,
   "id": "86753111-ad4a-42df-8bd5-07ff9fb3e7be",
   "metadata": {},
   "outputs": [
    {
     "data": {
      "text/plain": [
       "['Kitchen_AbvGr', 'Kitchen_Qual']"
      ]
     },
     "execution_count": 28,
     "metadata": {},
     "output_type": "execute_result"
    }
   ],
   "source": [
    "[col for col in all_train.columns if 'kitchen' in col.lower()]"
   ]
  },
  {
   "cell_type": "code",
   "execution_count": 29,
   "id": "9666c7b6-57f7-420a-b7dd-e862d3e5b17e",
   "metadata": {},
   "outputs": [
    {
     "data": {
      "text/plain": [
       "array(['Typical', 'Good', 'Excellent', 'Fair', 'Poor'], dtype=object)"
      ]
     },
     "execution_count": 29,
     "metadata": {},
     "output_type": "execute_result"
    }
   ],
   "source": [
    "all_train['Kitchen_Qual'].unique()"
   ]
  },
  {
   "cell_type": "code",
   "execution_count": 37,
   "id": "a50e3774-c1e3-4716-97b5-53278917dbac",
   "metadata": {},
   "outputs": [
    {
     "data": {
      "text/plain": [
       "Bsmt_Qual_Poor           0.033041\n",
       "Bsmt_Qual_No_Basement    0.151477\n",
       "Bsmt_Qual_Fair           0.160803\n",
       "Bsmt_Qual_Good           0.209928\n",
       "Bsmt_Qual_Typical        0.451294\n",
       "Bsmt_Qual_Excellent      0.604159\n",
       "Name: Sale_Price, dtype: float64"
      ]
     },
     "execution_count": 37,
     "metadata": {},
     "output_type": "execute_result"
    }
   ],
   "source": [
    "corrs[corrs.index.str.contains('Bsmt_Qual')]"
   ]
  },
  {
   "cell_type": "code",
   "execution_count": null,
   "id": "83d200a3-93d9-4b6d-a786-d05d212b4158",
   "metadata": {},
   "outputs": [],
   "source": []
  }
 ],
 "metadata": {
  "kernelspec": {
   "display_name": "Python 3 (ipykernel)",
   "language": "python",
   "name": "python3"
  },
  "language_info": {
   "codemirror_mode": {
    "name": "ipython",
    "version": 3
   },
   "file_extension": ".py",
   "mimetype": "text/x-python",
   "name": "python",
   "nbconvert_exporter": "python",
   "pygments_lexer": "ipython3",
   "version": "3.10.2"
  }
 },
 "nbformat": 4,
 "nbformat_minor": 5
}
