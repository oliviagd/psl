{
 "cells": [
  {
   "cell_type": "code",
   "execution_count": 5,
   "metadata": {},
   "outputs": [],
   "source": [
    "import numpy as np\n",
    "import random\n",
    "import torch\n",
    "from transformers import BertTokenizer, BertModel\n",
    "import pandas as pd\n",
    "from tqdm.notebook import tqdm\n",
    "\n",
    "seed = 1735\n",
    "np.random.seed(seed)\n",
    "random.seed(seed)\n",
    "torch.manual_seed(seed)\n",
    "if torch.cuda.is_available():\n",
    "    torch.cuda.manual_seed_all(seed)"
   ]
  },
  {
   "cell_type": "code",
   "execution_count": null,
   "metadata": {},
   "outputs": [],
   "source": [
    "\n",
    "def get_bert_embeddings(texts):\n",
    "    # Load pre-trained model and tokenizer\n",
    "    tokenizer = BertTokenizer.from_pretrained('bert-base-uncased')\n",
    "    model = BertModel.from_pretrained('bert-base-uncased')\n",
    "\n",
    "    def get_sentence_embedding(text):\n",
    "        inputs = tokenizer(text, return_tensors='pt')\n",
    "        with torch.no_grad():\n",
    "            outputs = model(**inputs)\n",
    "        last_hidden_states = outputs.last_hidden_state\n",
    "        sentence_embedding = torch.mean(last_hidden_states, dim=1).numpy().flatten()\n",
    "        return sentence_embedding\n",
    "\n",
    "    # Generate embeddings for texts\n",
    "    return np.array([get_sentence_embedding(text) for text in tqdm(texts)])\n",
    "\n",
    "\n",
    "def get_embeddings(filepath, num):\n",
    "    test_df = pd.read_csv(filepath)\n",
    "    X_test = test_df.drop(columns=['id', 'review'])\n",
    "\n",
    "    idxs = np.random.choice(len(X_test), size=num, replace=False)\n",
    "\n",
    "    reviews = test_df.iloc[idxs]['review'].tolist()\n",
    "    bert = get_bert_embeddings(reviews)\n",
    "    assert bert.shape == (num, 768)\n",
    "\n",
    "    openai = test_df.iloc[idxs].drop(columns=['id', 'review']).to_numpy()\n",
    "    assert openai.shape == (num, 1536)\n",
    "\n",
    "    return bert, openai\n",
    "\n",
    "\n",
    "bert, openai = get_embeddings('./F24_Proj3_data/split_1/test.csv', 1600)\n",
    "bert.shape, openai.shape\n"
   ]
  },
  {
   "cell_type": "code",
   "execution_count": 15,
   "metadata": {},
   "outputs": [],
   "source": [
    "X = np.c_[np.ones(bert.shape[0]), bert]\n",
    "x, _, _, _ = np.linalg.lstsq(X, openai)\n",
    "pass"
   ]
  },
  {
   "cell_type": "code",
   "execution_count": 10,
   "metadata": {},
   "outputs": [],
   "source": [
    "# Write trained split 1 model to file\n",
    "\n",
    "# import mymain\n",
    "# import os\n",
    "\n",
    "# cwd = os.getcwd()\n",
    "# os.chdir('./F24_Proj3_data/split_1')\n",
    "# model = mymain.main()\n",
    "# os.chdir(cwd)\n",
    "\n",
    "# model_file = './trained_lr_model.npz'\n",
    "# np.savez_compressed(model_file, intercept=model.intercept_, coef=model.coef_, features=model.feature_names_in_)\n",
    "\n",
    "# m = np.load(model_file, allow_pickle=True)\n",
    "# pass\n"
   ]
  }
 ],
 "metadata": {
  "kernelspec": {
   "display_name": "proj3_interpretability",
   "language": "python",
   "name": "python3"
  },
  "language_info": {
   "codemirror_mode": {
    "name": "ipython",
    "version": 3
   },
   "file_extension": ".py",
   "mimetype": "text/x-python",
   "name": "python",
   "nbconvert_exporter": "python",
   "pygments_lexer": "ipython3",
   "version": "3.12.0"
  }
 },
 "nbformat": 4,
 "nbformat_minor": 2
}
