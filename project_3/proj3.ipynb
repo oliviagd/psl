{
 "cells": [
  {
   "cell_type": "markdown",
   "metadata": {},
   "source": [
    "## Project 3\n",
    "\n",
    "Team:\n",
    "- Olivia Dalglish (od4)\n",
    "- Arindam Saha (saha2)\n",
    "\n",
    "Contribution: \n",
    "\n",
    "Both of us worked on this project, brainstormed ideas and checked each other's work.\n"
   ]
  },
  {
   "cell_type": "markdown",
   "metadata": {},
   "source": [
    "#### Section 1"
   ]
  },
  {
   "cell_type": "markdown",
   "metadata": {},
   "source": [
    "For sentiment classification, we used the 1,536-dimensional embeddings from OpenAI's text-embedding-3-large model as our features. We trained a logistic regression model using cross validation, with `l2_penalty` and `roc_auc` scoring, to match our evaluation metric.\n",
    "\n",
    "This model able to achieve the required benchmark in all the splits, as shown below.\n",
    "\n",
    "| split | auc | execution time\n",
    "|---|---|---|\n",
    "| split_1 | 0.9867 | 9.73 s\n",
    "| split_2 | 0.9863 | 9.75 s\n",
    "| split_3 | 0.9860 | 9.88 s\n",
    "| split_4 | 0.9865 | 10.62 s\n",
    "| split_5 | 0.9860 | 10.85 s\n",
    "\n",
    "Computer system specifications: Macbook Pro, Apple M3 Max (4.05 GHz), 48GB memory\n"
   ]
  },
  {
   "cell_type": "markdown",
   "metadata": {},
   "source": [
    "#### Section 2"
   ]
  },
  {
   "cell_type": "markdown",
   "metadata": {},
   "source": [
    "To explain our model from above, we chose 5 randomly selected positive reviews and 5 randomly selected negative reviews from split 1 test data, as instructed. We adopted the leave-one-out method outlined in Campuswire What We Have Tried (I) for our approach.\n",
    "\n",
    "We used the BERT model [bert-base-uncased](https://huggingface.co/google-bert/bert-base-uncased) (with a tokenizer setting of padding=True and truncation=True) model to generate embeddings for the full review as well as with each sentence omitted. We split the review on the `.` character to determine sentences, which obviously is not 100% accurate but is simple and works well enough for our use case. Since our model is trained on OpenAI's embeddings, we trained a mapping from BERT to OpenAI embedding by randomly selecting 1600 reviews from the split 1 test data, generating the BERT embeddings and running a ordinary least squares regression to come up with the mapping matrix.\n",
    "\n",
    "For interpretability analysis, we load the BERT embedding for the full review as well as the various leave-one-out-sentence reviews generated above, transform to OpenAi's embedding using our mapping matrix, run our trained model and come up with the full-probability as well as leave-one-out-probability for the sentences. Then for a positive review's sentence, if the `leave-one-out-probability <= full-probability`, we mark the sentence as having influenced our prediction. Similary, for a negative review, we use the metric `leave-one-out-probability >= full-probability`. The code below shows our method on the randomly selected reviews, with the influencing sentences highlighted in blue.\n",
    "\n",
    "From the output, we can see that our analysis is quite good at picking the relevant parts of a review. By using leave-one-out method it is able to select which sentences really affect the prediction. However, a drawback is, if the entire review is positive/negative, it highlights the whole review instead of prioritizing and picking the most influencing sentences."
   ]
  },
  {
   "cell_type": "code",
   "execution_count": 1,
   "metadata": {},
   "outputs": [],
   "source": [
    "from os.path import join\n",
    "import requests\n",
    "import io\n",
    "\n",
    "import numpy as np\n",
    "import pandas as pd\n",
    "\n",
    "from IPython.display import display, HTML\n",
    "\n",
    "seed = 1735\n",
    "np.random.seed(seed)\n"
   ]
  },
  {
   "cell_type": "code",
   "execution_count": 2,
   "metadata": {},
   "outputs": [],
   "source": [
    "url_dir = 'https://raw.githubusercontent.com/oliviagd/psl/refs/heads/main/project_3/interpretability_inputs'\n",
    "\n",
    "response = requests.get(join(url_dir, 'trained_lr_model.npz'))\n",
    "response.raise_for_status()\n",
    "model = np.load(io.BytesIO(response.content), allow_pickle=True)"
   ]
  },
  {
   "cell_type": "code",
   "execution_count": 3,
   "metadata": {},
   "outputs": [],
   "source": [
    "def run_interpretability_analysis(tag, review_id, url):\n",
    "    df = pd.read_csv(url)\n",
    "    bert = df.drop(columns=['loo_sentence']).to_numpy()\n",
    "    openai = np.c_[np.ones(len(bert)), bert] @ model['bert_to_openai_mapping']\n",
    "\n",
    "    e = (openai @ model['coef'].flatten()) + model['intercept']\n",
    "    probs = 1 / (1 + np.exp(-e))\n",
    "    sentences = df['loo_sentence'].tolist()\n",
    "\n",
    "    # full_review = sentences[0]\n",
    "    full_prob = probs[0]\n",
    "    positive = {'pos': True, 'neg': False}[tag]\n",
    "    highlighted = []\n",
    "    for sentence, prob in zip(sentences[1:], probs[1:]):\n",
    "        highlight = (positive and prob <= full_prob) or (not positive and prob >= full_prob)\n",
    "        if highlight:\n",
    "            sentence = f\"<span style='color: blue'>{sentence}</span>\"\n",
    "            # sentence = f\"<u>{sentence}</u>\"\n",
    "        highlighted.append(str(sentence))\n",
    "    highlighted = '.'.join(highlighted)\n",
    "    \n",
    "    display(HTML(f\"<u>Review id={review_id} interpretability analysis - {'Positive' if positive else 'Negative'}</u>\"))\n",
    "    display(HTML(highlighted))\n",
    "\n"
   ]
  },
  {
   "cell_type": "code",
   "execution_count": 4,
   "metadata": {},
   "outputs": [
    {
     "data": {
      "text/html": [
       "<u>Review id=2603 interpretability analysis - Positive</u>"
      ],
      "text/plain": [
       "<IPython.core.display.HTML object>"
      ]
     },
     "metadata": {},
     "output_type": "display_data"
    },
    {
     "data": {
      "text/html": [
       "This isn't so much a review of A Tale Of Two Sisters as it is a discussion of some of the smaller plot details, so I advise you NOT to read this review if you haven't seen the film, because doing so will absolutely ruin a few surprises for you.<br /><br />In a way A Tale Of Two Sisters is far from original, at least from a purely superficial aspect - some of its iconography is taken straight from Ring or Dark Water, while the storyline itself (especially what Brendt Sponseller calls the \\rubber reality\\\" aspect of the narrative) is reminiscent of films like Fight Club (lead character interacts with someone created in their mind), Mulholland Drive (character creates alternate reality in a psychogenic fugue), as well as other minor aspects of Lost Highway, Jacob's Ladder, and basically every film under the sun dealing with mental illness, plus Amenabar's films (The Others, Abre Los Ojos), Memento (particularly with regards to the torturous nature of memory), et al.<span style='color: blue'> Thankfully all these similarities do not detract from the film's overall emotional impact, and I personally found A Tale Of Two Sisters an extremely moving and rewarding experience</span>.<br /><br />Many people have commented on the \\\"confusing\\\" nature of the narrative, but I personally found the storyline to be fairly self-explanatory, even if it is in part portrayed in a non-sequential manner. The narrative only becomes confusing for some because, midway through the final third, the story switches from a purely subjective setting (ie. Soo-Mi's warped perception of reality) to an objective one, with a flashback at the end explaining the origins of Soo-Mi's nervous breakdown and subsequent mental illness. The shift in emphasis is bound to throw some people off guard, but structurally I found it somewhat reminiscent of aforementioned Mulholland Drive (even though we're not dealing with a character's perception of reality via a dream but instead their own schizophrenic tendencies - something which, in turn, reminded me of another Lynch movie, Lost Highway). To be honest, I don't really regard A Tale Of Two Sisters as a Horror movie as such, but rather a tragic story of a family's breakdown as well as an honest look at a character's mental illness (and I hasten to add that fans of psychoanalytical cinema are going to love this film).<span style='color: blue'><br /><br />That aside, the cinematography in A Tale Of Two Sisters is incredible and visually this is one of the most beautiful films I've seen this side of Wong Kar Wai's 2046</span>.<span style='color: blue'> The performances are also fantastic without exception, and I expect to see more of the four lead actors in the future; not to mention the music, but then east Asian films without a great soundtrack seem to be few and far between these days</span>.<span style='color: blue'><br /><br />It's very likely that some people will look past the finer artistic points of A Tale Of Two Sisters and simply dismiss it as \\\"yet another Asian horror film\\\", oblivious to its aesthetic beauty and honest psychoanalytical approach</span>.<span style='color: blue'> But then each to their own</span>.<span style='color: blue'> If you can ignore some of the film's platitudinous aspects and simply take it for what it is at heart, ie</span>.<span style='color: blue'> an extremely tragic, heart-breaking story, then I see no reason not to recommend it</span>.<span style='color: blue'>\"</span>"
      ],
      "text/plain": [
       "<IPython.core.display.HTML object>"
      ]
     },
     "metadata": {},
     "output_type": "display_data"
    },
    {
     "data": {
      "text/html": [
       "<u>Review id=8073 interpretability analysis - Positive</u>"
      ],
      "text/plain": [
       "<IPython.core.display.HTML object>"
      ]
     },
     "metadata": {},
     "output_type": "display_data"
    },
    {
     "data": {
      "text/html": [
       "<span style='color: blue'>William Shakespeare's plays are classified as comedy, tragedy, or history</span>.<span style='color: blue'> Some of his most memorable --and most often read -- creations provide us with wistful humor, gentle poetry and hilarious slapstick</span>.<span style='color: blue'> Some of them survive as unforgettable dramas of compelling depth and gravity</span>.<span style='color: blue'> Regardless, he was able to write with unparalleled skill and inventiveness, contributing greatly to our young language</span>. So in what category lies The Merchant of Venice ? I was very surprised to find it is one of Shakespeare's comedies.<span style='color: blue'> I had never before read it nor seen it, but after watching this most recent film version I have decided it is neither and it is both</span>. This is one of many questions the viewer must try to answer when coming to terms with what is clearly a perplexing and deeply troubling moral tragedy.<span style='color: blue'><br /><br />The players are introduced quickly, and simply</span>. One of them, firstly, is Venice itself; director Michael Radford filmed the Venetian scenes in the actual city, creating an impressively vibrant, bustling backdrop to the play's proceedings. To this scenery enters the youthful Bassanio (Joseph Fiennes), returning to Venice to see a dear old friend, Antonio (Jeremy Irons).<span style='color: blue'> It seems the poor Bassanio has heard of a princess whose father has died and has left to any potential suitors a lottery of sorts</span>. Waiting at the fair lady's island estate are three small trunks, <br /><br />only one of which contains \\images of the princess\\\".<span style='color: blue'> He who can guess the right one, using only blind intuition and the cryptic teasers written upon them, will be bestowed the father's huge fortune for life</span>.<span style='color: blue'> Oh, and his daughter and her eternal love in marriage, I forgot to mention</span>.<span style='color: blue'> Here the light comedy of Shakespeare takes over the movie</span>.<span style='color: blue'> This farcical plot element drives the story and also fills up much of the film's screen time, as a number of painfully eager opportunists arrive at the island, humorously vying for and failing to earn this very wealthy hand in marriage</span>.<span style='color: blue'> But before any of this occurs Bassanio, very much lacking in finances, entreats Antonio to loan him three thousand ducats to pay for the lengthy journey he must take to have his shot at the prize</span>. <br /><br />Antonio, himself nearly penniless, must reluctantly embrace humility by seeking the financial aid of Shylock (Al Pacino), one of countless Jewish usurers who keep the sagging economy afloat yet are scorned and persecuted to no end by the city's zealously Christian majority. Thus they dwell in society's underbelly, and it is here the two borrowers must go. Shylock does not hesitate to remind the two men of a certain incident where Antonio insulted and spat on him in the city market, and he proudly rebukes this man who frankly has a lot of nerve now coming to ask for help. But help him Shylock does. He even erases any kind of interest on the loan, most likely feeling he has no reason to be concerned if Antonio will be able to repay him within three months. Still, Shylock's one contractual demand is a pound of Antonio's flesh, should he renege on their agreement.<span style='color: blue'> This is an unsettling request, to be sure, for Antonio and Bassanio as well as for us</span>. But it appears that despite his justifiable pride Shylock does not really anticipate seeing such a gruesome act occurring. <br /><br />So here the dramatic groundwork has been laid. And while the film goes off to explore its gentler side with its love lottery and mistaken identities, there still looms the gloomy prospect of the loan itself. In the end, what will become of this ominous agreement? Meanwhile we are left at turns to explore the true central character of Shylock. Al Pacino has ample dramatic weight to carry here, and he does so with convincing grit and passion. There are times when he is given room for the theatrics we have come to expect from such a colorful actor. But his most impressive scenes are the ones where he internalizes this energy, showing a conflicted personality: honest, sincere, and proud, yet brooding, vengeful and entirely remorseless.<span style='color: blue'> This is one of Pacino's most heartfelt performances to date</span>. And while the rest of the cast play their roles creditably and convincingly, it is Pacino who really owns the film -- especially toward the end, when Shakespeare upends this seeming romantic comedy with a wallop of a third act.<br /><br />I shall not reveal much here; all I can say is that it involves the initial loan -- a mighty shoe one expected would drop sooner or later. And does it ever. By the end Shakespeare has raised a host of dilemmas for his audience: seemingly unresolvable questions of faith, morality, law, and mercy are thrown before us through the final scenes, and while by curtain's close the playwright's position may seem clear to some, we are left completely at odds. There are winners and losers in this one, but have the winners earned their spoils with good reason, or have they in a larger sense ended out losing as well? Has virtue been rewarded, or simply flouted? Has justice in fact this time been just? By the play's finish some fates are painfully clear, and unequivocally sealed. But the audience are to be the ones who really decide the verdict for all of those involved. And for some the verdict is still out for the play as well.<span style='color: blue'> Comedy or tragedy? The author has cunningly veiled the intense courtroom finale with an ending of light mirth and pat romantic resolutions</span>. Is he saying that all is well that ends well, or is this his final, ironic condemnation? The play's humor serves to set us up nicely for such a heavy crash. And while it is also what unfortunately keeps The Merchant of Venice from achieving the greatness of so many of Shakespeare's other works, it is still engaging, amusing, and thought-provoking beyond measure.\""
      ],
      "text/plain": [
       "<IPython.core.display.HTML object>"
      ]
     },
     "metadata": {},
     "output_type": "display_data"
    },
    {
     "data": {
      "text/html": [
       "<u>Review id=9595 interpretability analysis - Positive</u>"
      ],
      "text/plain": [
       "<IPython.core.display.HTML object>"
      ]
     },
     "metadata": {},
     "output_type": "display_data"
    },
    {
     "data": {
      "text/html": [
       "<span style='color: blue'>Having seen the uncut version, I thought this film was beautifully made</span>.<span style='color: blue'> It captured my attention from beginning to end; the tension was wonderfully conveyed</span>.<span style='color: blue'> Nasaan Ka Man portrays the typical Filipino family with accuracy in its presentation of secrets and lies</span>.<span style='color: blue'> Even the religious culture, the human tendency to keep up appearances and maintain a pure reputation is shown with stark vividness in Gloria Diaz's character</span>. There is not a little scene in this film that does not have a purpose- the cinematography is excellent and the writing brilliant.<br /><br />Although the plot is great, I personally found that the twist at the end, the revelation to do with Jericho's character was not as much of a shock as it should be.<span style='color: blue'> But then maybe that's just me, because otherwise, Nasaan Ka Man is a very cleverly made film</span>.<br /><br />The casting was good to begin with, but Deither and Claudine's acting were the icing on the cake.<span style='color: blue'> Not one to miss if you're looking for a Filipino film that will surprise and surpass expectations</span>.<span style='color: blue'> Thumbs up to the director</span>.<span style='color: blue'>nan</span>"
      ],
      "text/plain": [
       "<IPython.core.display.HTML object>"
      ]
     },
     "metadata": {},
     "output_type": "display_data"
    },
    {
     "data": {
      "text/html": [
       "<u>Review id=17545 interpretability analysis - Positive</u>"
      ],
      "text/plain": [
       "<IPython.core.display.HTML object>"
      ]
     },
     "metadata": {},
     "output_type": "display_data"
    },
    {
     "data": {
      "text/html": [
       "<span style='color: blue'>This movie is definitely one of the finest of its kind,</span>. A Victrion age story of love, and, grit. The depth of its story line is one that will stir the inner most emotions of love, and hate, with some very interesting twists, this is a must have movie for not only the lesbian audiences, but, for all viewers.<span style='color: blue'> I can't say much more or I will spoil the experience for a new, young audience who might just be coming out</span>.<span style='color: blue'> Another fine work for Sarah Waters</span>. It also is a great way for Sally Hawkins to win over audiences who only get a brief glimpse of her talent in another Sarah Waters work, in \\Tipping the Velvet\\\".nan.<span style='color: blue'> It is also a must see</span>.<span style='color: blue'>nan</span>.\""
      ],
      "text/plain": [
       "<IPython.core.display.HTML object>"
      ]
     },
     "metadata": {},
     "output_type": "display_data"
    },
    {
     "data": {
      "text/html": [
       "<u>Review id=19034 interpretability analysis - Positive</u>"
      ],
      "text/plain": [
       "<IPython.core.display.HTML object>"
      ]
     },
     "metadata": {},
     "output_type": "display_data"
    },
    {
     "data": {
      "text/html": [
       "He's not your conventional cab driver.<br /><br />This guys got issues. With his wife, with his son, a priest, all his fares, his ex-partner and most of all himself. And the greatest thing is they just throw us all into it. So we have to keep watching to find out more about his past.<span style='color: blue'><br /><br />The idea may not be original but David Morse makes it so</span>.<span style='color: blue'> I think this is a great show, and I hope people catch-on before the season's over</span>. <br /><br />WATCH THIS SHOW!!!!!!!!!"
      ],
      "text/plain": [
       "<IPython.core.display.HTML object>"
      ]
     },
     "metadata": {},
     "output_type": "display_data"
    },
    {
     "data": {
      "text/html": [
       "<u>Review id=2726 interpretability analysis - Negative</u>"
      ],
      "text/plain": [
       "<IPython.core.display.HTML object>"
      ]
     },
     "metadata": {},
     "output_type": "display_data"
    },
    {
     "data": {
      "text/html": [
       "The Brave One seems to indicate that the main character, of course, is brave. I'd disagree.<span style='color: blue'> The more brave thing to do in a situation like the one that happens to her- getting brutally beaten along with her fiancée who doesn't live another day from it- is to go after the criminals without resorting to a total distorted view of society</span>.<span style='color: blue'> Jodie Foster's character, Erica, is a radio personality who's niche is walking the streets and recording what goes on</span>.<span style='color: blue'> We're given no real depth aside from 'she had someone she loved, he died, the police don't pursue it, she gets a gun, yada-yada-yada, she gets somewhat but not really involved with the lead detective' into the character, and so were left with something leftover from past movies: the vigilante code of justice, where taking the power in one's own hands is all there is</span>. But we're never too sure if Erica is sane or not, if the filmmakers take a position one way or another (that is until the end, which is such a stupid message to take anyway, dog included as overbearing metaphor), while making the New York City of today, which has become significantly safer than, say, twenty years ago, look like you'll get knifed or beaten if you go down just the right alley or just sit alone on a subway car.<span style='color: blue'><br /><br />There could even be a somewhat better movie in the midst of all of this- perhaps just in the undercooked subplot with Terence Howard's detective, who is involved in some custody battle of a child that isn't his and a woman who he's not linked to and a step-father who, I don't know what aside from owning parking lots and being a bad dude- but we're left to a script that's both ham-fisted and disjointed with logic</span>.<span style='color: blue'> It becomes laughable, for example, to see that at first the logical side- of Erica unable to really shoot properly, as seen in her first shooting in a convenience store at the convenient moment of a robbery of a wife by the husband- and then giving way to the illogical of her crack-shot at shooting at a pimp driving a car head on at her and killing him and ducking just in time to not get run over</span>.<span style='color: blue'> It doesn't help that Jordon's style with the camera becomes a little more than insufferable: it's called a stedi-cam for a *reason*, not because it can weave in and out</span>.<span style='color: blue'><br /><br />Ironically, the script and direction become very good, or rather work the best they can under the desired circumstances: when looking at the actual beating scene under the bridge, caught between a video-taped point of view by one of the criminals by the regular film cam in a pace that is perfectly disorienting</span>.<span style='color: blue'> And when Erica first comes back on the air to her radio show, and she freezes up trying to do her old shtick, and speaks out a 'from-the-heart' about how afraid she is- this scene, from Foster's performance, to the clear direction and script, is the best scene in the film</span>.<span style='color: blue'> But aside from that, there's just a lot of posturing into a psychology that's flimsy: is she a De Niro in Taxi Driver or a Bronson in Death Wish? We have her narration over scenes, some of it doesn't have to do at all with her radio show, observing how disgusted she is with walking around at night, nothing to do but her self-imposed task of cleaning up the streets</span>.<span style='color: blue'> But unlike Death Wish, a movie that held more ambiguity and never held an answer at the end in a revenge scenario, the path of endless violence just heeds to a message, one that won't be news to anyone who's seen a second of Lifetime movie-of-the-week melodrama</span>.<span style='color: blue'><br /><br />The actors make do with what's given, and in the end it becomes much more frustrating trying to stay with the anticipated, the hackneyed plot turns, and the plain old inexplicable (plus the unintentionally hilarious, like a few expletives shouted by Howard after getting shot in one scene), and the temptation to walk out grows stronger and stronger</span>.<span style='color: blue'> It's a very problematic picture, with only a few moments of genuine interest and clear-headed convention-bending</span>.<span style='color: blue'>nan</span>"
      ],
      "text/plain": [
       "<IPython.core.display.HTML object>"
      ]
     },
     "metadata": {},
     "output_type": "display_data"
    },
    {
     "data": {
      "text/html": [
       "<u>Review id=10557 interpretability analysis - Negative</u>"
      ],
      "text/plain": [
       "<IPython.core.display.HTML object>"
      ]
     },
     "metadata": {},
     "output_type": "display_data"
    },
    {
     "data": {
      "text/html": [
       "Heart of Darkness Movie Review Joseph Conrad's Heart of Darkness is pretty dark, deep, and very profound. I would have to say reading the novel is way better than the movie. The character Mr. Kurtz, played by John Malcovik was totally the wrong actor to do the part.<span style='color: blue'> He fit the character in \\Of Mice and Men</span>.\\\" The movie left out man key parts that I consider important to get the true message of the story.<br /><br />The movie is poorly edited.<span style='color: blue'> It shows a lot of non-important and annoying flashes</span>. In the novel it has a very suspenseful atmosphere, but in the movie it lacks that kind of feeling. In the book there is so much that was left to the imagination of the reader. For example when Marlow spent timeless hours and days waiting for rivets and that entire scene was left out of the movie. In the novel Marlow waited very long time for the rivets to come for him to fix his boat.<span style='color: blue'> This was a big source of futility in the novel</span>. The movie added more parts that were useless and kind of didn't make sense. For example, when Kurtz was talking to Marlow at the end of the book and Kurtz snapped the monkey's neck and killed him. That kind of just ruined everything, didn't make any sense to me what so ever.<span style='color: blue'> So my suggestion to you is don't view the movie, just read the book</span>. You will understand more and have a better interpretation of the story.<br /><br />~Chris C.\""
      ],
      "text/plain": [
       "<IPython.core.display.HTML object>"
      ]
     },
     "metadata": {},
     "output_type": "display_data"
    },
    {
     "data": {
      "text/html": [
       "<u>Review id=35754 interpretability analysis - Negative</u>"
      ],
      "text/plain": [
       "<IPython.core.display.HTML object>"
      ]
     },
     "metadata": {},
     "output_type": "display_data"
    },
    {
     "data": {
      "text/html": [
       "A seemingly endless movie that really deserves a zero rating.<span style='color: blue'> The premise seems simple enough: Yentl, a girl interested in studying the Talmud, wants to go to school</span>.<span style='color: blue'> But only boys are allowed to study, so after her father's death she decides to disguise herself as a boy to get in</span>. She does and becomes close friends with Avigdor, who is to be married to a beautiful woman named Hadass.<span style='color: blue'> Hadass' family learns Avigdor's brother committed suicide, and the wedding is called off</span>.<span style='color: blue'> Yentl, now calling herself Anschel, is then selected to marry Hadass</span>. She does but it is never consummated.<span style='color: blue'> Yentl/Anschel and Avigdor go away for a few days, and Yentl/Anschel reveals her secret to him</span>. The movie ends with Avigdor returning to (and marrying?) Hadass, and Yentl going to America to continue her studies although she will have to continue to do so in disguise.<span style='color: blue'><br /><br />The plot above seems interesting at first for a movie over 2 hours long, but there are several things that ruin it</span>. For starters, there is the constant SINGING. (I can already hear the critics shouting.<span style='color: blue'>) Yes, I know this is a musical so there are supposed to be lots of songs and dance numbers</span>.<span style='color: blue'> But the movie could have been improved if it were directed and played without them</span>. The songs become tedious after a while, and there isn't as much dancing as one would expect.<span style='color: blue'> Many of the songs are forgettable, with no real memorable lyrics, and those with any significance could easily have been substituted by a voice-over</span>. Only one song stands out from the rest, \\Papa Can You Hear Me\\\". It is obvious that most of the others were deliberately placed so Streisand could simply have a reason to show off her vocal abilities every five to ten minutes. Chances are anyone who will see this film will already know what a superb singer and actress she is, so the songs really aren't necessary.<span style='color: blue'> <br /><br />Second, Streisand's makeup, which can be seen during her scenes as a man (the lipstick, enhanced lashes, and traces of blush are all obvious) makes it hard for the audience to believe in the Yentl/Anschel character, that she is actually serious, and fooling her new friends, colleagues, and even Hadass, into believing she is a man</span>.<span style='color: blue'> Yet we are asked and expected to believe that very thing</span>.<span style='color: blue'> There seems to be a contradiction, as her character talks, or rather sings, of how she doesn't think she can pull it off, but is surprised that everyone seems to be fooled because she is wearing men's clothing</span>.<span style='color: blue'> This means that we are then expected to believe the other characters are so naive they can't see the other differences, such as her actions, which are clear giveaways</span>.<span style='color: blue'> The facial differences alone cannot be included, as other characters in the film mention that some of their male relatives or friends didn't have a beard or other facial hair</span>.<span style='color: blue'> Nevertheless, in the 1900s, if a woman dressed as a man, but wore as much makeup as Streisand's character did, and still tried to pass herself off as a man solely because she wore men's clothing, it would have been deemed unacceptable and caused an outrage</span>.<span style='color: blue'> Chances are she would probably be forced to leave the town, or even the country</span>.<span style='color: blue'> Therefore the \\\"feminine\\\" makeup on Streisand does not lend to the character's credibility, and only weakens the plot</span>.<span style='color: blue'> If it was only applied to make Streisand look more beautiful, it should have been scrapped</span>.<span style='color: blue'> <br /><br />Thirdly, when Yentl/Anschel herself reveals who she truly is toward the end, we are then asked to believe that the other characters are not as smart as Streisand's and only when they learn the \\\"truth\\\" do they become a little wiser</span>.<span style='color: blue'> By now it becomes more and more apparent that the whole plot is so far fetched that it is nothing more than a custom-made vehicle for Streisand to fuel</span>.<span style='color: blue'><br /><br />Lastly, there are those who are fans of Streisand who will find no fault with this film, its plot, or the songs</span>.<span style='color: blue'> To those I must respectfully disagree</span>.<span style='color: blue'> While she has excellent vocal and acting abilities, I am not a \\\"fan\\\" of her style of singing</span>.<span style='color: blue'> However, I have enjoyed many of her other features including musicals</span>.<span style='color: blue'> There are even some songs of hers that I like, so I am not a \\\"hater\\\" nor have set out to bash her</span>.<span style='color: blue'> I have written this review from an honest perspective, from someone who has tried their best to watch this movie - several times even - and has noted the problems within</span>.<span style='color: blue'> If Streisand was interested in creating a great or even believable film, she could have done so here by not injecting her need to show off and prove how talented, beautiful and smart she is at nearly every turn</span>.<span style='color: blue'> This movie does nothing more than hurt her abilities, make her appear self-absorbed, and thus turn the film into a laugh-fest unworthy of her fans or audience</span>.<span style='color: blue'>\"</span>"
      ],
      "text/plain": [
       "<IPython.core.display.HTML object>"
      ]
     },
     "metadata": {},
     "output_type": "display_data"
    },
    {
     "data": {
      "text/html": [
       "<u>Review id=41564 interpretability analysis - Negative</u>"
      ],
      "text/plain": [
       "<IPython.core.display.HTML object>"
      ]
     },
     "metadata": {},
     "output_type": "display_data"
    },
    {
     "data": {
      "text/html": [
       "Every generation fully believes it is living in the end times. This has been true for thousands of years now. And movies like this feed on this. How did they get the great Orson Welles to narrate this train wreck? This is a documentary about the biblical prophecies of Armageddon. It tries to link the prophecies as well as it can to what was happening in the times it was made, making it obviously dated and kind of silly.<span style='color: blue'><br /><br />The reenactments look like they are out of \\Unsolved Mysteries\\\" but without the high production values</span>.<span style='color: blue'> People should have been embarrassed to take part in this</span>.<span style='color: blue'><br /><br />In short, the movie is dated, silly, reactionary, and useless</span>.<span style='color: blue'> Good if you want a good laugh, but not good enough to actually look for</span>.<span style='color: blue'>\"</span>"
      ],
      "text/plain": [
       "<IPython.core.display.HTML object>"
      ]
     },
     "metadata": {},
     "output_type": "display_data"
    },
    {
     "data": {
      "text/html": [
       "<u>Review id=46871 interpretability analysis - Negative</u>"
      ],
      "text/plain": [
       "<IPython.core.display.HTML object>"
      ]
     },
     "metadata": {},
     "output_type": "display_data"
    },
    {
     "data": {
      "text/html": [
       "<span style='color: blue'>With its companion piece MASTERS OF HORROR, NIGHTMARES AND DREAMSCAPES can only be seen as the absolute nadir of the genre that began so auspiciously with THE TWILIGHT ZONE and THE OUTER LIMITS</span>.<span style='color: blue'><br /><br />Of course, part of the problem is that it does nothing to be of any interest to a comparatively adult audience, instead aiming at TEN-YEAR-OLDS, who are only able to count body-bags, and scarcely that</span>.<span style='color: blue'> And so grossness is king, and King is grossness</span>.<span style='color: blue'><br /><br />Stephen King is simply illiterate  in general he has the aptitude for storytelling of Bart Simpson</span>.<span style='color: blue'> Since he cannot read his sole inspiration is the movies</span>.<span style='color: blue'><br /><br />True, the cinema is not such a bad place to start, since it has generally escaped the onslaught of \\Realism\\\"</span>.<span style='color: blue'> But these films are only the rumor, not the thing, and if you want to WRITE, you have to dig deeper</span>.<span style='color: blue'><br /><br />Of course, only PICKMAN had monsters as close acquaintances</span>. But even so, it should be clear to any undergraduate that vampires are not Dracula and Lugosi.<br /><br />At least AUTOPSY ROOM FOUR is a clear indication of what is wrong.<span style='color: blue'> One can almost imagine this pathetic dolt sitting as his desk trying to come up with something SCARY</span>.<span style='color: blue'><br /><br />Not, mind you, trying to describe accurately the horror of the system of which he is an integral part, making the stupid stupider, but trying to come up with a scary story for his little nephew</span>. Suppose, you were paralyzed, and people thought you were dead and started to cut you open like they do at those autopsy things! Wouldn't that be gross? And that, boys and girls, is the story.<span style='color: blue'><br /><br />What about characterization? Oh yes, he's one of these suits, who never really appreciated life, you know, and now it's too late, right? And he's shouting  well, they can't actually hear him, you know  he's saying that he's going to sue the hospital, but he's not such a big shot anymore, you see, lying there (or is it laying, I can never remember) and all</span>.<span style='color: blue'> And he's thinking: Oh no please, please don't cut me and this is terrible, lying (or laying) like that  now, wouldn't that be a great story? You know I read somewhere that a snake bite can do that, I think it was that great medical authority Agatha Christie</span>.<span style='color: blue'> What was the name of that snake again, oh yeah, a BOOMSLANG  has quite a ring to it, doesn't it</span>.<span style='color: blue'><br /><br />Let's make it a PERUVIAN BOOMSLANG! Sure, Steve, that's great  except that BOOMSLANG is Afrikaans, you moron! But how can you really tell that the target audience is children, and not simply mental defects? It's easy: There's no sex</span>.<span style='color: blue'><br /><br />Well, there is, but it's the kind glimpsed through a crack in the door to our parent's bedroom</span>.<span style='color: blue'> Modern filmmakers are really big on the erotic aspects of the genre, the monster, the female victim, the chase</span>.<span style='color: blue'><br /><br />But unlike UNIVERSAL and LEWTON they have no idea what's going on</span>.<span style='color: blue'> All that's really left is the giggling outside the SM club and the Fascist credo that people with sexual preferences are intrinsically evil</span>.<span style='color: blue'><br /><br />In spite of a certain discrepancy in size, King Kong knew exactly what to do with Fay Wray</span>.<span style='color: blue'> Freddy Krueger can only kill her</span>.<span style='color: blue'><br /><br />And since there's no real titillation in that, he has to torture her first  not in any way that might excite her, you understand, since that would upset our puritan sentiments</span>.<span style='color: blue'> And so, horror and romanticism become simply unpleasantness and the grooming of psychopaths</span>.<span style='color: blue'><br /><br />Our hero, you see, is a rubber fetishist, and can only get a boner if someone touches him you know down there with you know  rubber gloves (giggle)</span>.<span style='color: blue'> And that's what they use in autopsies, and that's how they discover that he is, in fact, you know</span>.<span style='color: blue'><br /><br />Obviously, this is the author at the height of his inspirational powers</span>.<span style='color: blue'> Too bad, they cut it out, since it might have upset the FIVE-YEAR-OLDS watching the show!\"</span>"
      ],
      "text/plain": [
       "<IPython.core.display.HTML object>"
      ]
     },
     "metadata": {},
     "output_type": "display_data"
    }
   ],
   "source": [
    "pos_ids = [2603, 8073, 9595, 17545, 19034]\n",
    "neg_ids = [2726, 10557, 35754, 41564, 46871]\n",
    "\n",
    "\n",
    "for tag, review_ids in [('pos', pos_ids), ('neg', neg_ids)]:\n",
    "    for review_id in review_ids:\n",
    "        run_interpretability_analysis(tag, review_id, join(url_dir, f'{tag}_{review_id}.csv'))\n",
    "\n",
    "\n",
    "pass"
   ]
  }
 ],
 "metadata": {
  "kernelspec": {
   "display_name": "base",
   "language": "python",
   "name": "python3"
  },
  "language_info": {
   "codemirror_mode": {
    "name": "ipython",
    "version": 3
   },
   "file_extension": ".py",
   "mimetype": "text/x-python",
   "name": "python",
   "nbconvert_exporter": "python",
   "pygments_lexer": "ipython3",
   "version": "3.12.2"
  }
 },
 "nbformat": 4,
 "nbformat_minor": 2
}
